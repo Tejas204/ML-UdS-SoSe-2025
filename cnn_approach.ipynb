{
 "cells": [
  {
   "cell_type": "markdown",
   "id": "c8384c71",
   "metadata": {},
   "source": [
    "## This follows a CNN approach as follows\n",
    "\n",
    "1. Convolve over each image using a filter\n",
    "2. This gives us a feature map\n",
    "3. At the end, use a classification head and a binary loss function"
   ]
  },
  {
   "cell_type": "code",
   "execution_count": 1,
   "id": "aa1ba929",
   "metadata": {},
   "outputs": [],
   "source": [
    "import torch\n",
    "import torch.nn.functional as F\n",
    "import torchvision.datasets as datasets\n",
    "import torchvision.transforms as transforms\n",
    "from torch import optim\n",
    "from torch import nn\n",
    "from torch.utils.data import DataLoader\n",
    "from tqdm import tqdm"
   ]
  },
  {
   "cell_type": "code",
   "execution_count": null,
   "id": "5f213f77",
   "metadata": {},
   "outputs": [],
   "source": []
  }
 ],
 "metadata": {
  "kernelspec": {
   "display_name": "HLCV",
   "language": "python",
   "name": "python3"
  },
  "language_info": {
   "codemirror_mode": {
    "name": "ipython",
    "version": 3
   },
   "file_extension": ".py",
   "mimetype": "text/x-python",
   "name": "python",
   "nbconvert_exporter": "python",
   "pygments_lexer": "ipython3",
   "version": "3.12.2"
  }
 },
 "nbformat": 4,
 "nbformat_minor": 5
}
