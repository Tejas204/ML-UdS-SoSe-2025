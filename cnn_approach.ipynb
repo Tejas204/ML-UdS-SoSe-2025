{
 "cells": [
  {
   "cell_type": "markdown",
   "id": "c8384c71",
   "metadata": {},
   "source": [
    "## This follows a CNN approach as follows\n",
    "\n",
    "1. Convolve over each image using a filter\n",
    "2. This gives us a feature map\n",
    "3. At the end, use a classification head and a binary loss function"
   ]
  },
  {
   "cell_type": "markdown",
   "id": "26bdc1cd",
   "metadata": {},
   "source": [
    "### Imports"
   ]
  },
  {
   "cell_type": "code",
   "execution_count": null,
   "id": "aa1ba929",
   "metadata": {},
   "outputs": [],
   "source": [
    "import torch\n",
    "import torch.nn.functional as F\n",
    "import torchvision.datasets as datasets\n",
    "import torchvision.transforms as transforms\n",
    "from torch import optim\n",
    "from torch import nn\n",
    "from torch.utils.data import DataLoader\n",
    "from tqdm import tqdm\n",
    "from PIL import Image\n",
    "\n",
    "from dataset_loader import TRAIN_SEGMENTATION_DATASET, TEST_SEGMENTATION_DATASET\n",
    "from cnn_model import CNN_MODEL\n",
    "from cnn_config import cnn_experiment_1\n",
    "\n",
    "from trainer_evaluator import TRAINER_EVALUATOR"
   ]
  },
  {
   "cell_type": "markdown",
   "id": "2ca419da",
   "metadata": {},
   "source": [
    "### Data Loader"
   ]
  },
  {
   "cell_type": "code",
   "execution_count": null,
   "id": "5f213f77",
   "metadata": {},
   "outputs": [
    {
     "name": "stdout",
     "output_type": "stream",
     "text": [
      "torch.Size([1, 3, 375, 500]) torch.Size([1, 3, 375, 500])\n"
     ]
    }
   ],
   "source": [
    "transform = transforms.Compose([\n",
    "    transforms.ToTensor()\n",
    "])\n",
    "\n",
    "# Create dataset\n",
    "train_dataset = TRAIN_SEGMENTATION_DATASET(\n",
    "    \"/Users/tejasdhopavkar/Documents/MS/Saarland_University/Semester_1/ML/Project/dataset/training/images\",\n",
    "    \"/Users/tejasdhopavkar/Documents/MS/Saarland_University/Semester_1/ML/Project/dataset/training/ground_truth\",\n",
    "    transform\n",
    ")\n",
    "\n",
    "test_dataset = TEST_SEGMENTATION_DATASET(\n",
    "    \"/Users/tejasdhopavkar/Documents/MS/Saarland_University/Semester_1/ML/Project/dataset/test/images\",\n",
    "    transform\n",
    ")\n",
    "\n",
    "# Create DataLoader\n",
    "train_loader = DataLoader(train_dataset, batch_size=1, shuffle=True, num_workers=0)\n",
    "test_loader = DataLoader(test_dataset, batch_size=1, shuffle=False, num_workers=0)\n",
    "\n",
    "# Example batch\n",
    "images, labels = next(iter(train_loader))\n",
    "print(images.shape, labels.shape)"
   ]
  },
  {
   "cell_type": "markdown",
   "id": "8a307334",
   "metadata": {},
   "source": [
    "### Model, criterion, optimizer"
   ]
  },
  {
   "cell_type": "code",
   "execution_count": 3,
   "id": "88b6abea",
   "metadata": {},
   "outputs": [],
   "source": [
    "model = CNN_MODEL(cnn_experiment_1['model_args']['input_size'], cnn_experiment_1['model_args']['hidden_layers'], cnn_experiment_1['model_args']['activation'], cnn_experiment_1['model_args']['norm_layer'], cnn_experiment_1['model_args']['drop_prob'], cnn_experiment_1['model_args']['max_pooling'])\n",
    "optimizer = torch.optim.Adam(model.parameters(), lr=1e-4)\n",
    "loss = nn.BCEWithLogitsLoss()"
   ]
  },
  {
   "cell_type": "code",
   "execution_count": 4,
   "id": "839e392e",
   "metadata": {},
   "outputs": [
    {
     "data": {
      "text/plain": [
       "CNN_MODEL(\n",
       "  (features): Sequential(\n",
       "    (0): Conv2d(3, 128, kernel_size=(3, 3), stride=(1, 1), padding=(1, 1))\n",
       "    (1): ReLU()\n",
       "    (2): Conv2d(128, 512, kernel_size=(3, 3), stride=(1, 1), padding=(1, 1))\n",
       "    (3): ReLU()\n",
       "    (4): Conv2d(512, 512, kernel_size=(3, 3), stride=(1, 1), padding=(1, 1))\n",
       "    (5): ReLU()\n",
       "    (6): Conv2d(512, 128, kernel_size=(3, 3), stride=(1, 1), padding=(1, 1))\n",
       "    (7): ReLU()\n",
       "    (8): Conv2d(128, 3, kernel_size=(3, 3), stride=(1, 1), padding=(1, 1))\n",
       "    (9): ReLU()\n",
       "  )\n",
       ")"
      ]
     },
     "execution_count": 4,
     "metadata": {},
     "output_type": "execute_result"
    }
   ],
   "source": [
    "model"
   ]
  },
  {
   "cell_type": "markdown",
   "id": "eb3484c0",
   "metadata": {},
   "source": [
    "### Model training"
   ]
  },
  {
   "cell_type": "code",
   "execution_count": 5,
   "id": "f2f51b34",
   "metadata": {},
   "outputs": [],
   "source": [
    "trainer_evaluator = TRAINER_EVALUATOR()"
   ]
  },
  {
   "cell_type": "code",
   "execution_count": null,
   "id": "767f7a02",
   "metadata": {},
   "outputs": [
    {
     "name": "stdout",
     "output_type": "stream",
     "text": [
      "Training started...\n",
      "Epoch 0: Started training\n",
      "Total loss after epoch 0: 158.04082375764847\n",
      "Epoch 1/5 - Loss: 0.6932\n",
      "Epoch 1: Started training\n",
      "Total loss after epoch 1: 158.03759837150574\n",
      "Epoch 2/5 - Loss: 0.6931\n",
      "Epoch 2: Started training\n",
      "Total loss after epoch 2: 158.03759837150574\n",
      "Epoch 3/5 - Loss: 0.6931\n",
      "Epoch 3: Started training\n",
      "Total loss after epoch 3: 158.03759837150574\n",
      "Epoch 4/5 - Loss: 0.6931\n",
      "Epoch 4: Started training\n",
      "Total loss after epoch 4: 158.03759837150574\n",
      "Epoch 5/5 - Loss: 0.6931\n"
     ]
    }
   ],
   "source": [
    "print(\"Training started...\")\n",
    "trainer_evaluator.train_cnn(model, train_loader, optimizer, loss, 5)"
   ]
  },
  {
   "cell_type": "markdown",
   "id": "5ee72dd6",
   "metadata": {},
   "source": [
    "### Save predictions"
   ]
  },
  {
   "cell_type": "code",
   "execution_count": 6,
   "id": "75a61384",
   "metadata": {},
   "outputs": [
    {
     "ename": "TypeError",
     "evalue": "Cannot handle this data type: (1, 1, 500), |u1",
     "output_type": "error",
     "traceback": [
      "\u001b[0;31m---------------------------------------------------------------------------\u001b[0m",
      "\u001b[0;31mKeyError\u001b[0m                                  Traceback (most recent call last)",
      "File \u001b[0;32m/opt/anaconda3/envs/HLCV/lib/python3.12/site-packages/PIL/Image.py:3311\u001b[0m, in \u001b[0;36mfromarray\u001b[0;34m(obj, mode)\u001b[0m\n\u001b[1;32m   3310\u001b[0m \u001b[38;5;28;01mtry\u001b[39;00m:\n\u001b[0;32m-> 3311\u001b[0m     mode, rawmode \u001b[38;5;241m=\u001b[39m _fromarray_typemap[typekey]\n\u001b[1;32m   3312\u001b[0m \u001b[38;5;28;01mexcept\u001b[39;00m \u001b[38;5;167;01mKeyError\u001b[39;00m \u001b[38;5;28;01mas\u001b[39;00m e:\n",
      "\u001b[0;31mKeyError\u001b[0m: ((1, 1, 500), '|u1')",
      "\nThe above exception was the direct cause of the following exception:\n",
      "\u001b[0;31mTypeError\u001b[0m                                 Traceback (most recent call last)",
      "Cell \u001b[0;32mIn[6], line 2\u001b[0m\n\u001b[1;32m      1\u001b[0m \u001b[38;5;66;03m# Save predicted masks\u001b[39;00m\n\u001b[0;32m----> 2\u001b[0m trainer_evaluator\u001b[38;5;241m.\u001b[39msave_predictions(model, train_loader)\n",
      "File \u001b[0;32m~/Documents/MS/Saarland_University/Semester_1/ML/Project/trainer_evaluator.py:96\u001b[0m, in \u001b[0;36mTRAINER_EVALUATOR.save_predictions\u001b[0;34m(self, model, loader, save_dir)\u001b[0m\n\u001b[1;32m     94\u001b[0m mask \u001b[38;5;241m=\u001b[39m np\u001b[38;5;241m.\u001b[39msqueeze(mask)         \u001b[38;5;66;03m# (H,W)\u001b[39;00m\n\u001b[1;32m     95\u001b[0m mask \u001b[38;5;241m=\u001b[39m (mask \u001b[38;5;241m*\u001b[39m \u001b[38;5;241m255\u001b[39m)\u001b[38;5;241m.\u001b[39mastype(np\u001b[38;5;241m.\u001b[39muint8)\n\u001b[0;32m---> 96\u001b[0m mask \u001b[38;5;241m=\u001b[39m Image\u001b[38;5;241m.\u001b[39mfromarray(mask)    \u001b[38;5;66;03m# now valid\u001b[39;00m\n\u001b[1;32m     97\u001b[0m mask\u001b[38;5;241m.\u001b[39msave(os\u001b[38;5;241m.\u001b[39mpath\u001b[38;5;241m.\u001b[39mjoin(save_dir, \u001b[38;5;124mf\u001b[39m\u001b[38;5;124m\"\u001b[39m\u001b[38;5;124mmask_\u001b[39m\u001b[38;5;132;01m{\u001b[39;00midx\u001b[38;5;132;01m}\u001b[39;00m\u001b[38;5;124m_\u001b[39m\u001b[38;5;132;01m{\u001b[39;00mi\u001b[38;5;132;01m}\u001b[39;00m\u001b[38;5;124m.png\u001b[39m\u001b[38;5;124m\"\u001b[39m))\n",
      "File \u001b[0;32m/opt/anaconda3/envs/HLCV/lib/python3.12/site-packages/PIL/Image.py:3315\u001b[0m, in \u001b[0;36mfromarray\u001b[0;34m(obj, mode)\u001b[0m\n\u001b[1;32m   3313\u001b[0m         typekey_shape, typestr \u001b[38;5;241m=\u001b[39m typekey\n\u001b[1;32m   3314\u001b[0m         msg \u001b[38;5;241m=\u001b[39m \u001b[38;5;124mf\u001b[39m\u001b[38;5;124m\"\u001b[39m\u001b[38;5;124mCannot handle this data type: \u001b[39m\u001b[38;5;132;01m{\u001b[39;00mtypekey_shape\u001b[38;5;132;01m}\u001b[39;00m\u001b[38;5;124m, \u001b[39m\u001b[38;5;132;01m{\u001b[39;00mtypestr\u001b[38;5;132;01m}\u001b[39;00m\u001b[38;5;124m\"\u001b[39m\n\u001b[0;32m-> 3315\u001b[0m         \u001b[38;5;28;01mraise\u001b[39;00m \u001b[38;5;167;01mTypeError\u001b[39;00m(msg) \u001b[38;5;28;01mfrom\u001b[39;00m\u001b[38;5;250m \u001b[39m\u001b[38;5;21;01me\u001b[39;00m\n\u001b[1;32m   3316\u001b[0m \u001b[38;5;28;01melse\u001b[39;00m:\n\u001b[1;32m   3317\u001b[0m     rawmode \u001b[38;5;241m=\u001b[39m mode\n",
      "\u001b[0;31mTypeError\u001b[0m: Cannot handle this data type: (1, 1, 500), |u1"
     ]
    }
   ],
   "source": [
    "# Save predicted masks\n",
    "trainer_evaluator.save_predictions(model, train_loader)"
   ]
  },
  {
   "cell_type": "code",
   "execution_count": null,
   "id": "3a41f949",
   "metadata": {},
   "outputs": [],
   "source": []
  }
 ],
 "metadata": {
  "kernelspec": {
   "display_name": "HLCV",
   "language": "python",
   "name": "python3"
  },
  "language_info": {
   "codemirror_mode": {
    "name": "ipython",
    "version": 3
   },
   "file_extension": ".py",
   "mimetype": "text/x-python",
   "name": "python",
   "nbconvert_exporter": "python",
   "pygments_lexer": "ipython3",
   "version": "3.12.2"
  }
 },
 "nbformat": 4,
 "nbformat_minor": 5
}
