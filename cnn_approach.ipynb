{
 "cells": [
  {
   "cell_type": "markdown",
   "id": "c8384c71",
   "metadata": {},
   "source": [
    "## This follows a CNN approach as follows\n",
    "\n",
    "1. Convolve over each image using a filter\n",
    "2. This gives us a feature map\n",
    "3. At the end, use a classification head and a binary loss function"
   ]
  },
  {
   "cell_type": "markdown",
   "id": "26bdc1cd",
   "metadata": {},
   "source": [
    "### Imports"
   ]
  },
  {
   "cell_type": "code",
   "execution_count": 1,
   "id": "aa1ba929",
   "metadata": {},
   "outputs": [],
   "source": [
    "import torch\n",
    "import torch.nn.functional as F\n",
    "import torchvision.datasets as datasets\n",
    "import torchvision.transforms as transforms\n",
    "from torch import optim\n",
    "from torch import nn\n",
    "from torch.utils.data import DataLoader\n",
    "from tqdm import tqdm\n",
    "from PIL import Image\n",
    "\n",
    "from dataset_loader import TRAIN_SEGMENTATION_DATASET, TEST_SEGMENTATION_DATASET\n",
    "from cnn_model import CNN_MODEL\n",
    "from cnn_config import cnn_experiment_1\n",
    "\n",
    "from trainer_evaluator import TRAINER_EVALUATOR"
   ]
  },
  {
   "cell_type": "markdown",
   "id": "2ca419da",
   "metadata": {},
   "source": [
    "### Data Loader"
   ]
  },
  {
   "cell_type": "code",
   "execution_count": 2,
   "id": "5f213f77",
   "metadata": {},
   "outputs": [
    {
     "name": "stdout",
     "output_type": "stream",
     "text": [
      "torch.Size([1, 3, 375, 500]) torch.Size([1, 1, 375, 500]) ('2009_002082.jpg',)\n"
     ]
    }
   ],
   "source": [
    "transform = transforms.Compose([\n",
    "    transforms.ToTensor()\n",
    "])\n",
    "\n",
    "# Create dataset\n",
    "train_dataset = TRAIN_SEGMENTATION_DATASET(\n",
    "    \"/Users/tejasdhopavkar/Documents/MS/Saarland_University/Semester_1/ML/Project/dataset/training/images\",\n",
    "    \"/Users/tejasdhopavkar/Documents/MS/Saarland_University/Semester_1/ML/Project/dataset/training/ground_truth\",\n",
    "    transform\n",
    ")\n",
    "\n",
    "test_dataset = TEST_SEGMENTATION_DATASET(\n",
    "    \"/Users/tejasdhopavkar/Documents/MS/Saarland_University/Semester_1/ML/Project/dataset/test/images\",\n",
    "    transform\n",
    ")\n",
    "\n",
    "# Create DataLoader\n",
    "train_loader = DataLoader(train_dataset, batch_size=1, shuffle=True, num_workers=0)\n",
    "test_loader = DataLoader(test_dataset, batch_size=1, shuffle=False, num_workers=0)\n",
    "\n",
    "# Example batch\n",
    "images, labels, filename = next(iter(train_loader))\n",
    "print(images.shape, labels.shape, filename)"
   ]
  },
  {
   "cell_type": "markdown",
   "id": "8a307334",
   "metadata": {},
   "source": [
    "### Model, criterion, optimizer"
   ]
  },
  {
   "cell_type": "code",
   "execution_count": 3,
   "id": "3b7aabe1",
   "metadata": {},
   "outputs": [],
   "source": [
    "device = torch.device(\"cuda\" if torch.cuda.is_available() else\n",
    "                      \"mps\" if torch.backends.mps.is_available() else \"cpu\")"
   ]
  },
  {
   "cell_type": "code",
   "execution_count": 4,
   "id": "88b6abea",
   "metadata": {},
   "outputs": [],
   "source": [
    "model = CNN_MODEL(cnn_experiment_1['model_args']['input_size'], cnn_experiment_1['model_args']['hidden_layers'], cnn_experiment_1['model_args']['activation'], cnn_experiment_1['model_args']['norm_layer'], cnn_experiment_1['model_args']['drop_prob'], cnn_experiment_1['model_args']['max_pooling']).to(device)\n",
    "optimizer = torch.optim.Adam(model.parameters(), lr=1e-4)\n",
    "loss = nn.BCELoss()"
   ]
  },
  {
   "cell_type": "code",
   "execution_count": 5,
   "id": "839e392e",
   "metadata": {},
   "outputs": [
    {
     "data": {
      "text/plain": [
       "CNN_MODEL(\n",
       "  (features): Sequential(\n",
       "    (0): Conv2d(3, 128, kernel_size=(3, 3), stride=(1, 1), padding=(1, 1))\n",
       "    (1): ReLU()\n",
       "    (2): Conv2d(128, 512, kernel_size=(3, 3), stride=(1, 1), padding=(1, 1))\n",
       "    (3): ReLU()\n",
       "    (4): Conv2d(512, 512, kernel_size=(3, 3), stride=(1, 1), padding=(1, 1))\n",
       "    (5): ReLU()\n",
       "    (6): Conv2d(512, 128, kernel_size=(3, 3), stride=(1, 1), padding=(1, 1))\n",
       "    (7): ReLU()\n",
       "    (8): Conv2d(128, 1, kernel_size=(3, 3), stride=(1, 1), padding=(1, 1))\n",
       "    (9): ReLU()\n",
       "  )\n",
       ")"
      ]
     },
     "execution_count": 5,
     "metadata": {},
     "output_type": "execute_result"
    }
   ],
   "source": [
    "model"
   ]
  },
  {
   "cell_type": "markdown",
   "id": "eb3484c0",
   "metadata": {},
   "source": [
    "### Model training"
   ]
  },
  {
   "cell_type": "code",
   "execution_count": 6,
   "id": "f2f51b34",
   "metadata": {},
   "outputs": [],
   "source": [
    "trainer_evaluator = TRAINER_EVALUATOR()"
   ]
  },
  {
   "cell_type": "code",
   "execution_count": 7,
   "id": "767f7a02",
   "metadata": {},
   "outputs": [
    {
     "name": "stdout",
     "output_type": "stream",
     "text": [
      "Training started...\n",
      "Epoch 0: Started training\n",
      "Total loss after epoch 0: 695.8074588477612\n",
      "Epoch 1/25 - Loss: 3.0518\n",
      "Epoch 1: Started training\n",
      "Total loss after epoch 1: 695.80745883286\n",
      "Epoch 2/25 - Loss: 3.0518\n",
      "Epoch 2: Started training\n",
      "Total loss after epoch 2: 695.80745883286\n",
      "Epoch 3/25 - Loss: 3.0518\n",
      "Epoch 3: Started training\n",
      "Total loss after epoch 3: 695.80745883286\n",
      "Epoch 4/25 - Loss: 3.0518\n",
      "Epoch 4: Started training\n",
      "Total loss after epoch 4: 695.80745883286\n",
      "Epoch 5/25 - Loss: 3.0518\n",
      "Epoch 5: Started training\n",
      "Total loss after epoch 5: 695.80745883286\n",
      "Epoch 6/25 - Loss: 3.0518\n",
      "Epoch 6: Started training\n",
      "Total loss after epoch 6: 695.80745883286\n",
      "Epoch 7/25 - Loss: 3.0518\n",
      "Epoch 7: Started training\n",
      "Total loss after epoch 7: 695.80745883286\n",
      "Epoch 8/25 - Loss: 3.0518\n",
      "Epoch 8: Started training\n",
      "Total loss after epoch 8: 695.80745883286\n",
      "Epoch 9/25 - Loss: 3.0518\n",
      "Epoch 9: Started training\n",
      "Total loss after epoch 9: 695.80745883286\n",
      "Epoch 10/25 - Loss: 3.0518\n",
      "Epoch 10: Started training\n",
      "Total loss after epoch 10: 695.80745883286\n",
      "Epoch 11/25 - Loss: 3.0518\n",
      "Epoch 11: Started training\n",
      "Total loss after epoch 11: 695.80745883286\n",
      "Epoch 12/25 - Loss: 3.0518\n",
      "Epoch 12: Started training\n",
      "Total loss after epoch 12: 695.80745883286\n",
      "Epoch 13/25 - Loss: 3.0518\n",
      "Epoch 13: Started training\n",
      "Total loss after epoch 13: 695.80745883286\n",
      "Epoch 14/25 - Loss: 3.0518\n",
      "Epoch 14: Started training\n",
      "Total loss after epoch 14: 695.80745883286\n",
      "Epoch 15/25 - Loss: 3.0518\n",
      "Epoch 15: Started training\n",
      "Total loss after epoch 15: 695.80745883286\n",
      "Epoch 16/25 - Loss: 3.0518\n",
      "Epoch 16: Started training\n",
      "Total loss after epoch 16: 695.80745883286\n",
      "Epoch 17/25 - Loss: 3.0518\n",
      "Epoch 17: Started training\n",
      "Total loss after epoch 17: 695.80745883286\n",
      "Epoch 18/25 - Loss: 3.0518\n",
      "Epoch 18: Started training\n",
      "Total loss after epoch 18: 695.80745883286\n",
      "Epoch 19/25 - Loss: 3.0518\n",
      "Epoch 19: Started training\n",
      "Total loss after epoch 19: 695.80745883286\n",
      "Epoch 20/25 - Loss: 3.0518\n",
      "Epoch 20: Started training\n",
      "Total loss after epoch 20: 695.80745883286\n",
      "Epoch 21/25 - Loss: 3.0518\n",
      "Epoch 21: Started training\n",
      "Total loss after epoch 21: 695.80745883286\n",
      "Epoch 22/25 - Loss: 3.0518\n",
      "Epoch 22: Started training\n",
      "Total loss after epoch 22: 695.80745883286\n",
      "Epoch 23/25 - Loss: 3.0518\n",
      "Epoch 23: Started training\n",
      "Total loss after epoch 23: 695.80745883286\n",
      "Epoch 24/25 - Loss: 3.0518\n",
      "Epoch 24: Started training\n",
      "Total loss after epoch 24: 695.80745883286\n",
      "Epoch 25/25 - Loss: 3.0518\n"
     ]
    }
   ],
   "source": [
    "print(\"Training started...\")\n",
    "trainer_evaluator.train_cnn(model, train_loader, optimizer, loss, device, 25)"
   ]
  },
  {
   "cell_type": "markdown",
   "id": "5ee72dd6",
   "metadata": {},
   "source": [
    "### Save predictions"
   ]
  },
  {
   "cell_type": "code",
   "execution_count": 7,
   "id": "75a61384",
   "metadata": {},
   "outputs": [
    {
     "name": "stderr",
     "output_type": "stream",
     "text": [
      "/Users/tejasdhopavkar/Documents/MS/Saarland_University/Semester_1/ML/Project/trainer_evaluator.py:112: FutureWarning: You are using `torch.load` with `weights_only=False` (the current default value), which uses the default pickle module implicitly. It is possible to construct malicious pickle data which will execute arbitrary code during unpickling (See https://github.com/pytorch/pytorch/blob/main/SECURITY.md#untrusted-models for more details). In a future release, the default value for `weights_only` will be flipped to `True`. This limits the functions that could be executed during unpickling. Arbitrary objects will no longer be allowed to be loaded via this mode unless they are explicitly allowlisted by the user via `torch.serialization.add_safe_globals`. We recommend you start setting `weights_only=True` for any use case where you don't have full control of the loaded file. Please open an issue on GitHub for any issues related to this experimental feature.\n",
      "  model.load_state_dict(torch.load(\"models/cnn/best_model.pth\", map_location=device))\n"
     ]
    },
    {
     "ename": "KeyboardInterrupt",
     "evalue": "",
     "output_type": "error",
     "traceback": [
      "\u001b[0;31m---------------------------------------------------------------------------\u001b[0m",
      "\u001b[0;31mKeyboardInterrupt\u001b[0m                         Traceback (most recent call last)",
      "Cell \u001b[0;32mIn[7], line 2\u001b[0m\n\u001b[1;32m      1\u001b[0m \u001b[38;5;66;03m# Save predicted masks\u001b[39;00m\n\u001b[0;32m----> 2\u001b[0m trainer_evaluator\u001b[38;5;241m.\u001b[39msave_predictions(model, train_loader, device)\n",
      "File \u001b[0;32m~/Documents/MS/Saarland_University/Semester_1/ML/Project/trainer_evaluator.py:122\u001b[0m, in \u001b[0;36mTRAINER_EVALUATOR.save_predictions\u001b[0;34m(self, model, loader, device, save_dir)\u001b[0m\n\u001b[1;32m    119\u001b[0m preds \u001b[38;5;241m=\u001b[39m (outputs \u001b[38;5;241m>\u001b[39m \u001b[38;5;241m0.5\u001b[39m)\u001b[38;5;241m.\u001b[39mfloat()\n\u001b[1;32m    121\u001b[0m \u001b[38;5;28;01mfor\u001b[39;00m i \u001b[38;5;129;01min\u001b[39;00m \u001b[38;5;28mrange\u001b[39m(images\u001b[38;5;241m.\u001b[39msize(\u001b[38;5;241m0\u001b[39m)):\n\u001b[0;32m--> 122\u001b[0m     mask \u001b[38;5;241m=\u001b[39m preds[i]\u001b[38;5;241m.\u001b[39mcpu()\u001b[38;5;241m.\u001b[39mnumpy()\n\u001b[1;32m    123\u001b[0m     mask \u001b[38;5;241m=\u001b[39m np\u001b[38;5;241m.\u001b[39msqueeze(mask)\n\u001b[1;32m    124\u001b[0m     mask \u001b[38;5;241m=\u001b[39m mask\u001b[38;5;241m.\u001b[39mastype(np\u001b[38;5;241m.\u001b[39muint8) \u001b[38;5;241m*\u001b[39m \u001b[38;5;241m255\u001b[39m\n",
      "\u001b[0;31mKeyboardInterrupt\u001b[0m: "
     ]
    }
   ],
   "source": [
    "# Save predicted masks\n",
    "trainer_evaluator.save_predictions(model, train_loader, device)"
   ]
  },
  {
   "cell_type": "code",
   "execution_count": null,
   "id": "3a41f949",
   "metadata": {},
   "outputs": [],
   "source": []
  }
 ],
 "metadata": {
  "kernelspec": {
   "display_name": "HLCV",
   "language": "python",
   "name": "python3"
  },
  "language_info": {
   "codemirror_mode": {
    "name": "ipython",
    "version": 3
   },
   "file_extension": ".py",
   "mimetype": "text/x-python",
   "name": "python",
   "nbconvert_exporter": "python",
   "pygments_lexer": "ipython3",
   "version": "3.12.2"
  }
 },
 "nbformat": 4,
 "nbformat_minor": 5
}
