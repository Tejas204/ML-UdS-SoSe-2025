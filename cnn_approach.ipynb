{
 "cells": [
  {
   "cell_type": "markdown",
   "id": "c8384c71",
   "metadata": {},
   "source": [
    "## This follows a CNN approach as follows\n",
    "\n",
    "1. Convolve over each image using a filter\n",
    "2. This gives us a feature map\n",
    "3. At the end, use a classification head and a binary loss function"
   ]
  },
  {
   "cell_type": "markdown",
   "id": "26bdc1cd",
   "metadata": {},
   "source": [
    "### Imports"
   ]
  },
  {
   "cell_type": "code",
   "execution_count": null,
   "id": "aa1ba929",
   "metadata": {},
   "outputs": [],
   "source": [
    "import torch\n",
    "import torch.nn.functional as F\n",
    "import torchvision.datasets as datasets\n",
    "import torchvision.transforms as transforms\n",
    "from torch import optim\n",
    "from torch import nn\n",
    "from torch.utils.data import DataLoader\n",
    "from tqdm import tqdm\n",
    "\n",
    "from dataset_loader import SEGMENTATION_DATASET\n",
    "from cnn_model import CNN_MODEL\n",
    "from cnn_config import cnn_experiment_1\n",
    "\n",
    "from trainer_evaluator import TRAINER_EVALUATOR"
   ]
  },
  {
   "cell_type": "markdown",
   "id": "2ca419da",
   "metadata": {},
   "source": [
    "### Data Loader"
   ]
  },
  {
   "cell_type": "code",
   "execution_count": 2,
   "id": "5f213f77",
   "metadata": {},
   "outputs": [
    {
     "name": "stdout",
     "output_type": "stream",
     "text": [
      "torch.Size([1, 3, 375, 500]) torch.Size([1, 3, 375, 500])\n"
     ]
    }
   ],
   "source": [
    "transform = transforms.Compose([\n",
    "    transforms.ToTensor()\n",
    "])\n",
    "\n",
    "# Create dataset\n",
    "train_dataset = SEGMENTATION_DATASET(\n",
    "    \"/Users/tejasdhopavkar/Documents/MS/Saarland_University/Semester_1/ML/Project/dataset/training/ground_truth\",\n",
    "    \"/Users/tejasdhopavkar/Documents/MS/Saarland_University/Semester_1/ML/Project/dataset/training/ground_truth\",\n",
    "    transform\n",
    ")\n",
    "\n",
    "test_dataset = SEGMENTATION_DATASET(\n",
    "    \"/Users/tejasdhopavkar/Documents/MS/Saarland_University/Semester_1/ML/Project/dataset/test/images\",\n",
    "    \"/Users/tejasdhopavkar/Documents/MS/Saarland_University/Semester_1/ML/Project/dataset/training/ground_truth\",\n",
    "    transform\n",
    ")\n",
    "\n",
    "# Create DataLoader\n",
    "train_loader = DataLoader(train_dataset, batch_size=1, shuffle=True, num_workers=0)\n",
    "test_loader = DataLoader(test_dataset, batch_size=1, shuffle=False, num_workers=0)\n",
    "\n",
    "# Example batch\n",
    "images, labels = next(iter(train_loader))\n",
    "print(images.shape, labels.shape)"
   ]
  },
  {
   "cell_type": "markdown",
   "id": "8a307334",
   "metadata": {},
   "source": [
    "### Model, criterion, optimizer"
   ]
  },
  {
   "cell_type": "code",
   "execution_count": 3,
   "id": "88b6abea",
   "metadata": {},
   "outputs": [],
   "source": [
    "model = CNN_MODEL(cnn_experiment_1['model_args']['input_size'], cnn_experiment_1['model_args']['hidden_layers'], cnn_experiment_1['model_args']['activation'], cnn_experiment_1['model_args']['norm_layer'], cnn_experiment_1['model_args']['drop_prob'], cnn_experiment_1['model_args']['max_pooling'])\n",
    "optimizer = torch.optim.Adam(model.parameters(), lr=1e-4)\n",
    "loss = nn.CrossEntropyLoss()"
   ]
  },
  {
   "cell_type": "code",
   "execution_count": 4,
   "id": "839e392e",
   "metadata": {},
   "outputs": [
    {
     "data": {
      "text/plain": [
       "CNN_MODEL(\n",
       "  (features): Sequential(\n",
       "    (0): Conv2d(3, 128, kernel_size=(3, 3), stride=(1, 1), padding=(1, 1))\n",
       "    (1): ReLU()\n",
       "    (2): Conv2d(128, 512, kernel_size=(3, 3), stride=(1, 1), padding=(1, 1))\n",
       "    (3): ReLU()\n",
       "    (4): Conv2d(512, 512, kernel_size=(3, 3), stride=(1, 1), padding=(1, 1))\n",
       "    (5): ReLU()\n",
       "    (6): Conv2d(512, 1024, kernel_size=(3, 3), stride=(1, 1), padding=(1, 1))\n",
       "    (7): ReLU()\n",
       "    (8): Conv2d(1024, 1024, kernel_size=(3, 3), stride=(1, 1), padding=(1, 1))\n",
       "    (9): ReLU()\n",
       "  )\n",
       ")"
      ]
     },
     "execution_count": 4,
     "metadata": {},
     "output_type": "execute_result"
    }
   ],
   "source": [
    "model"
   ]
  },
  {
   "cell_type": "markdown",
   "id": "eb3484c0",
   "metadata": {},
   "source": [
    "### Model training"
   ]
  },
  {
   "cell_type": "code",
   "execution_count": 5,
   "id": "767f7a02",
   "metadata": {},
   "outputs": [
    {
     "name": "stdout",
     "output_type": "stream",
     "text": [
      "Training started...\n"
     ]
    },
    {
     "ename": "NameError",
     "evalue": "name 'TRAINER_EVALUATOR' is not defined",
     "output_type": "error",
     "traceback": [
      "\u001b[0;31m---------------------------------------------------------------------------\u001b[0m",
      "\u001b[0;31mNameError\u001b[0m                                 Traceback (most recent call last)",
      "Cell \u001b[0;32mIn[5], line 2\u001b[0m\n\u001b[1;32m      1\u001b[0m \u001b[38;5;28mprint\u001b[39m(\u001b[38;5;124m\"\u001b[39m\u001b[38;5;124mTraining started...\u001b[39m\u001b[38;5;124m\"\u001b[39m)\n\u001b[0;32m----> 2\u001b[0m trainer_evaluator \u001b[38;5;241m=\u001b[39m TRAINER_EVALUATOR()\n\u001b[1;32m      3\u001b[0m trainer_evaluator\u001b[38;5;241m.\u001b[39mtrain_cnn(model, train_loader, optimizer, loss, \u001b[38;5;241m5\u001b[39m)\n",
      "\u001b[0;31mNameError\u001b[0m: name 'TRAINER_EVALUATOR' is not defined"
     ]
    }
   ],
   "source": [
    "print(\"Training started...\")\n",
    "trainer_evaluator = TRAINER_EVALUATOR()\n",
    "trainer_evaluator.train_cnn(model, train_loader, optimizer, loss, 5)"
   ]
  },
  {
   "cell_type": "code",
   "execution_count": null,
   "id": "75a61384",
   "metadata": {},
   "outputs": [],
   "source": []
  }
 ],
 "metadata": {
  "kernelspec": {
   "display_name": "HLCV",
   "language": "python",
   "name": "python3"
  },
  "language_info": {
   "codemirror_mode": {
    "name": "ipython",
    "version": 3
   },
   "file_extension": ".py",
   "mimetype": "text/x-python",
   "name": "python",
   "nbconvert_exporter": "python",
   "pygments_lexer": "ipython3",
   "version": "3.12.2"
  }
 },
 "nbformat": 4,
 "nbformat_minor": 5
}
